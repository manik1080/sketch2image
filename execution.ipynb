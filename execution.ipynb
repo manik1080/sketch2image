{
  "nbformat": 4,
  "nbformat_minor": 0,
  "metadata": {
    "colab": {
      "provenance": [],
      "gpuType": "L4"
    },
    "kernelspec": {
      "name": "python3",
      "display_name": "Python 3"
    },
    "language_info": {
      "name": "python"
    },
    "accelerator": "GPU"
  },
  "cells": [
    {
      "cell_type": "code",
      "source": [
        "from google.colab import drive\n",
        "drive.mount('/content/drive')"
      ],
      "metadata": {
        "colab": {
          "base_uri": "https://localhost:8080/"
        },
        "id": "M8w-k-j81cmY",
        "outputId": "5a2a8141-ab33-4fde-bc98-17afb7474c71"
      },
      "execution_count": 1,
      "outputs": [
        {
          "output_type": "stream",
          "name": "stdout",
          "text": [
            "Mounted at /content/drive\n"
          ]
        }
      ]
    },
    {
      "cell_type": "code",
      "source": [
        "# We connect to L4 GPU as 1.6 GB of GPU RAM is required"
      ],
      "metadata": {
        "id": "n5X56_VjWtDx"
      },
      "execution_count": null,
      "outputs": []
    },
    {
      "cell_type": "code",
      "source": [
        "%%capture\n",
        "# installing dependencies\n",
        "!pip install transformers accelerate diffusers gradio\n",
        "!pip install --pre -U xformers\n",
        "!pip install triton controlnet_aux"
      ],
      "metadata": {
        "id": "T4zwUPQC3s8x"
      },
      "execution_count": 2,
      "outputs": []
    },
    {
      "cell_type": "markdown",
      "source": [
        "Colab blocks Localost connection, error says 'connection refused'\n",
        "\n",
        "Even in this solution, it sometimes gives the same error, but repeatedly trying fixes it"
      ],
      "metadata": {
        "id": "ymNKuQtPW3fj"
      }
    },
    {
      "cell_type": "code",
      "source": [
        "# from google.colab import output\n",
        "# output.serve_kernel_port_as_window(5000)\n",
        "from google.colab.output import eval_js\n",
        "print(eval_js(\"google.colab.kernel.proxyPort(5000)\"))\n",
        "\n",
        "import subprocess\n",
        "with open('out.txt', \"w+\") as stdout_file, open('err.txt', \"w+\") as stderr_file:\n",
        "    process = subprocess.Popen(\n",
        "        \"python /content/drive/MyDrive/sketch2image/app.py\",\n",
        "        shell=True,\n",
        "        stdout=stdout_file,\n",
        "        stderr=stderr_file\n",
        "    )\n",
        "\n",
        "!curl http://127.0.0.1:5000\n",
        "# !python /content/drive/MyDrive/sketch2image/app.py"
      ],
      "metadata": {
        "colab": {
          "base_uri": "https://localhost:8080/",
          "height": 486
        },
        "id": "dGK30LPR1l5Y",
        "outputId": "244db428-2a66-4c32-df3f-aebdab3d1d3e"
      },
      "execution_count": 5,
      "outputs": [
        {
          "output_type": "stream",
          "name": "stdout",
          "text": [
            "https://p4a4p9efspe-496ff2e9c6d22116-5000-colab.googleusercontent.com/\n",
            "<!DOCTYPE html>\n",
            "<html lang=\"en\">\n",
            "<head>\n",
            "    <meta charset=\"UTF-8\">\n",
            "    <meta name=\"viewport\" content=\"width=device-width, initial-scale=1.0\">\n",
            "    <link rel=\"stylesheet\" href=\"/static/styles.css\">\n",
            "    <title>Sketch to Image Generator</title>\n",
            "</head>\n",
            "<body>\n",
            "    <div class=\"container\">\n",
            "        <h1>Sketch to Image Generator</h1>\n",
            "        <canvas id=\"drawingCanvas\" width=\"512\" height=\"512\"></canvas>\n",
            "        <div id=\"controls\">\n",
            "            <button id=\"undoButton\">Undo</button>\n",
            "            <button id=\"clearButton\">Clear</button>\n",
            "            <button id=\"generateButton\">Generate</button>\n",
            "            <button id=\"saveButton\">Save</button>\n",
            "        </div>\n",
            "        <textarea id=\"promptBox\" placeholder=\"Enter your prompt here...\"></textarea>\n",
            "        <div id=\"results\">\n",
            "            <img id=\"generatedImage\" alt=\"Generated Output\">\n",
            "        </div>\n",
            "    </div>\n",
            "    <script src=\"/static/scripts.js\"></script>\n",
            "</body>\n",
            "</html>"
          ]
        }
      ]
    }
  ]
}